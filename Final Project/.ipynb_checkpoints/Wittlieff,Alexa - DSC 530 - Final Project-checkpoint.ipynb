{
 "cells": [
  {
   "cell_type": "markdown",
   "id": "f3e11d2f",
   "metadata": {},
   "source": [
    "# DSC 530 Final Project - Alexa Wittlieff"
   ]
  },
  {
   "cell_type": "markdown",
   "id": "482a6290",
   "metadata": {},
   "source": [
    "# Load Data, Select Variables"
   ]
  },
  {
   "cell_type": "code",
   "execution_count": 113,
   "id": "343021bc",
   "metadata": {},
   "outputs": [],
   "source": [
    "import numpy as np\n",
    "import pandas as pd\n",
    "import matplotlib.pyplot as plt\n",
    "import statsmodels.formula.api as smf\n",
    "import thinkstats2\n",
    "import thinkplot"
   ]
  },
  {
   "cell_type": "code",
   "execution_count": 114,
   "id": "b9ba39bb",
   "metadata": {},
   "outputs": [],
   "source": [
    "# Load Data\n",
    "IMDB_df = pd.read_csv(r\"imdb_top_1000_MASTER COPY.csv\")"
   ]
  },
  {
   "cell_type": "code",
   "execution_count": 115,
   "id": "e424612a",
   "metadata": {
    "scrolled": false
   },
   "outputs": [
    {
     "data": {
      "text/html": [
       "<div>\n",
       "<style scoped>\n",
       "    .dataframe tbody tr th:only-of-type {\n",
       "        vertical-align: middle;\n",
       "    }\n",
       "\n",
       "    .dataframe tbody tr th {\n",
       "        vertical-align: top;\n",
       "    }\n",
       "\n",
       "    .dataframe thead th {\n",
       "        text-align: right;\n",
       "    }\n",
       "</style>\n",
       "<table border=\"1\" class=\"dataframe\">\n",
       "  <thead>\n",
       "    <tr style=\"text-align: right;\">\n",
       "      <th></th>\n",
       "      <th>Poster_Link</th>\n",
       "      <th>Series_Title</th>\n",
       "      <th>Released_Year</th>\n",
       "      <th>Certificate</th>\n",
       "      <th>Runtime</th>\n",
       "      <th>Genre</th>\n",
       "      <th>IMDB_Rating</th>\n",
       "      <th>Overview</th>\n",
       "      <th>Meta_score</th>\n",
       "      <th>Director</th>\n",
       "      <th>Star1</th>\n",
       "      <th>Star2</th>\n",
       "      <th>Star3</th>\n",
       "      <th>Star4</th>\n",
       "      <th>No_of_Votes</th>\n",
       "      <th>Gross</th>\n",
       "    </tr>\n",
       "  </thead>\n",
       "  <tbody>\n",
       "    <tr>\n",
       "      <th>0</th>\n",
       "      <td>https://m.media-amazon.com/images/M/MV5BMDFkYT...</td>\n",
       "      <td>The Shawshank Redemption</td>\n",
       "      <td>1994</td>\n",
       "      <td>A</td>\n",
       "      <td>142 min</td>\n",
       "      <td>Drama</td>\n",
       "      <td>9.3</td>\n",
       "      <td>Two imprisoned men bond over a number of years...</td>\n",
       "      <td>80.0</td>\n",
       "      <td>Frank Darabont</td>\n",
       "      <td>Tim Robbins</td>\n",
       "      <td>Morgan Freeman</td>\n",
       "      <td>Bob Gunton</td>\n",
       "      <td>William Sadler</td>\n",
       "      <td>2343110</td>\n",
       "      <td>28,341,469</td>\n",
       "    </tr>\n",
       "    <tr>\n",
       "      <th>1</th>\n",
       "      <td>https://m.media-amazon.com/images/M/MV5BM2MyNj...</td>\n",
       "      <td>The Godfather</td>\n",
       "      <td>1972</td>\n",
       "      <td>A</td>\n",
       "      <td>175 min</td>\n",
       "      <td>Crime, Drama</td>\n",
       "      <td>9.2</td>\n",
       "      <td>An organized crime dynasty's aging patriarch t...</td>\n",
       "      <td>100.0</td>\n",
       "      <td>Francis Ford Coppola</td>\n",
       "      <td>Marlon Brando</td>\n",
       "      <td>Al Pacino</td>\n",
       "      <td>James Caan</td>\n",
       "      <td>Diane Keaton</td>\n",
       "      <td>1620367</td>\n",
       "      <td>134,966,411</td>\n",
       "    </tr>\n",
       "    <tr>\n",
       "      <th>2</th>\n",
       "      <td>https://m.media-amazon.com/images/M/MV5BMTMxNT...</td>\n",
       "      <td>The Dark Knight</td>\n",
       "      <td>2008</td>\n",
       "      <td>UA</td>\n",
       "      <td>152 min</td>\n",
       "      <td>Action, Crime, Drama</td>\n",
       "      <td>9.0</td>\n",
       "      <td>When the menace known as the Joker wreaks havo...</td>\n",
       "      <td>84.0</td>\n",
       "      <td>Christopher Nolan</td>\n",
       "      <td>Christian Bale</td>\n",
       "      <td>Heath Ledger</td>\n",
       "      <td>Aaron Eckhart</td>\n",
       "      <td>Michael Caine</td>\n",
       "      <td>2303232</td>\n",
       "      <td>534,858,444</td>\n",
       "    </tr>\n",
       "    <tr>\n",
       "      <th>3</th>\n",
       "      <td>https://m.media-amazon.com/images/M/MV5BMWMwMG...</td>\n",
       "      <td>The Godfather: Part II</td>\n",
       "      <td>1974</td>\n",
       "      <td>A</td>\n",
       "      <td>202 min</td>\n",
       "      <td>Crime, Drama</td>\n",
       "      <td>9.0</td>\n",
       "      <td>The early life and career of Vito Corleone in ...</td>\n",
       "      <td>90.0</td>\n",
       "      <td>Francis Ford Coppola</td>\n",
       "      <td>Al Pacino</td>\n",
       "      <td>Robert De Niro</td>\n",
       "      <td>Robert Duvall</td>\n",
       "      <td>Diane Keaton</td>\n",
       "      <td>1129952</td>\n",
       "      <td>57,300,000</td>\n",
       "    </tr>\n",
       "    <tr>\n",
       "      <th>4</th>\n",
       "      <td>https://m.media-amazon.com/images/M/MV5BMWU4N2...</td>\n",
       "      <td>12 Angry Men</td>\n",
       "      <td>1957</td>\n",
       "      <td>U</td>\n",
       "      <td>96 min</td>\n",
       "      <td>Crime, Drama</td>\n",
       "      <td>9.0</td>\n",
       "      <td>A jury holdout attempts to prevent a miscarria...</td>\n",
       "      <td>96.0</td>\n",
       "      <td>Sidney Lumet</td>\n",
       "      <td>Henry Fonda</td>\n",
       "      <td>Lee J. Cobb</td>\n",
       "      <td>Martin Balsam</td>\n",
       "      <td>John Fiedler</td>\n",
       "      <td>689845</td>\n",
       "      <td>4,360,000</td>\n",
       "    </tr>\n",
       "  </tbody>\n",
       "</table>\n",
       "</div>"
      ],
      "text/plain": [
       "                                         Poster_Link  \\\n",
       "0  https://m.media-amazon.com/images/M/MV5BMDFkYT...   \n",
       "1  https://m.media-amazon.com/images/M/MV5BM2MyNj...   \n",
       "2  https://m.media-amazon.com/images/M/MV5BMTMxNT...   \n",
       "3  https://m.media-amazon.com/images/M/MV5BMWMwMG...   \n",
       "4  https://m.media-amazon.com/images/M/MV5BMWU4N2...   \n",
       "\n",
       "               Series_Title  Released_Year Certificate  Runtime  \\\n",
       "0  The Shawshank Redemption           1994           A  142 min   \n",
       "1             The Godfather           1972           A  175 min   \n",
       "2           The Dark Knight           2008          UA  152 min   \n",
       "3    The Godfather: Part II           1974           A  202 min   \n",
       "4              12 Angry Men           1957           U   96 min   \n",
       "\n",
       "                  Genre  IMDB_Rating  \\\n",
       "0                 Drama          9.3   \n",
       "1          Crime, Drama          9.2   \n",
       "2  Action, Crime, Drama          9.0   \n",
       "3          Crime, Drama          9.0   \n",
       "4          Crime, Drama          9.0   \n",
       "\n",
       "                                            Overview  Meta_score  \\\n",
       "0  Two imprisoned men bond over a number of years...        80.0   \n",
       "1  An organized crime dynasty's aging patriarch t...       100.0   \n",
       "2  When the menace known as the Joker wreaks havo...        84.0   \n",
       "3  The early life and career of Vito Corleone in ...        90.0   \n",
       "4  A jury holdout attempts to prevent a miscarria...        96.0   \n",
       "\n",
       "               Director           Star1           Star2          Star3  \\\n",
       "0        Frank Darabont     Tim Robbins  Morgan Freeman     Bob Gunton   \n",
       "1  Francis Ford Coppola   Marlon Brando       Al Pacino     James Caan   \n",
       "2     Christopher Nolan  Christian Bale    Heath Ledger  Aaron Eckhart   \n",
       "3  Francis Ford Coppola       Al Pacino  Robert De Niro  Robert Duvall   \n",
       "4          Sidney Lumet     Henry Fonda     Lee J. Cobb  Martin Balsam   \n",
       "\n",
       "            Star4  No_of_Votes        Gross  \n",
       "0  William Sadler      2343110   28,341,469  \n",
       "1    Diane Keaton      1620367  134,966,411  \n",
       "2   Michael Caine      2303232  534,858,444  \n",
       "3    Diane Keaton      1129952   57,300,000  \n",
       "4    John Fiedler       689845    4,360,000  "
      ]
     },
     "execution_count": 115,
     "metadata": {},
     "output_type": "execute_result"
    }
   ],
   "source": [
    "IMDB_df.head()"
   ]
  },
  {
   "cell_type": "code",
   "execution_count": 116,
   "id": "466f4148",
   "metadata": {
    "scrolled": true
   },
   "outputs": [
    {
     "data": {
      "text/html": [
       "<div>\n",
       "<style scoped>\n",
       "    .dataframe tbody tr th:only-of-type {\n",
       "        vertical-align: middle;\n",
       "    }\n",
       "\n",
       "    .dataframe tbody tr th {\n",
       "        vertical-align: top;\n",
       "    }\n",
       "\n",
       "    .dataframe thead th {\n",
       "        text-align: right;\n",
       "    }\n",
       "</style>\n",
       "<table border=\"1\" class=\"dataframe\">\n",
       "  <thead>\n",
       "    <tr style=\"text-align: right;\">\n",
       "      <th></th>\n",
       "      <th>Series_Title</th>\n",
       "      <th>Released_Year</th>\n",
       "      <th>Runtime</th>\n",
       "      <th>IMDB_Rating</th>\n",
       "      <th>Meta_score</th>\n",
       "      <th>Director</th>\n",
       "      <th>Gross</th>\n",
       "    </tr>\n",
       "  </thead>\n",
       "  <tbody>\n",
       "    <tr>\n",
       "      <th>0</th>\n",
       "      <td>The Shawshank Redemption</td>\n",
       "      <td>1994</td>\n",
       "      <td>142 min</td>\n",
       "      <td>9.3</td>\n",
       "      <td>80.0</td>\n",
       "      <td>Frank Darabont</td>\n",
       "      <td>28,341,469</td>\n",
       "    </tr>\n",
       "    <tr>\n",
       "      <th>1</th>\n",
       "      <td>The Godfather</td>\n",
       "      <td>1972</td>\n",
       "      <td>175 min</td>\n",
       "      <td>9.2</td>\n",
       "      <td>100.0</td>\n",
       "      <td>Francis Ford Coppola</td>\n",
       "      <td>134,966,411</td>\n",
       "    </tr>\n",
       "    <tr>\n",
       "      <th>2</th>\n",
       "      <td>The Dark Knight</td>\n",
       "      <td>2008</td>\n",
       "      <td>152 min</td>\n",
       "      <td>9.0</td>\n",
       "      <td>84.0</td>\n",
       "      <td>Christopher Nolan</td>\n",
       "      <td>534,858,444</td>\n",
       "    </tr>\n",
       "    <tr>\n",
       "      <th>3</th>\n",
       "      <td>The Godfather: Part II</td>\n",
       "      <td>1974</td>\n",
       "      <td>202 min</td>\n",
       "      <td>9.0</td>\n",
       "      <td>90.0</td>\n",
       "      <td>Francis Ford Coppola</td>\n",
       "      <td>57,300,000</td>\n",
       "    </tr>\n",
       "    <tr>\n",
       "      <th>4</th>\n",
       "      <td>12 Angry Men</td>\n",
       "      <td>1957</td>\n",
       "      <td>96 min</td>\n",
       "      <td>9.0</td>\n",
       "      <td>96.0</td>\n",
       "      <td>Sidney Lumet</td>\n",
       "      <td>4,360,000</td>\n",
       "    </tr>\n",
       "  </tbody>\n",
       "</table>\n",
       "</div>"
      ],
      "text/plain": [
       "               Series_Title  Released_Year  Runtime  IMDB_Rating  Meta_score  \\\n",
       "0  The Shawshank Redemption           1994  142 min          9.3        80.0   \n",
       "1             The Godfather           1972  175 min          9.2       100.0   \n",
       "2           The Dark Knight           2008  152 min          9.0        84.0   \n",
       "3    The Godfather: Part II           1974  202 min          9.0        90.0   \n",
       "4              12 Angry Men           1957   96 min          9.0        96.0   \n",
       "\n",
       "               Director        Gross  \n",
       "0        Frank Darabont   28,341,469  \n",
       "1  Francis Ford Coppola  134,966,411  \n",
       "2     Christopher Nolan  534,858,444  \n",
       "3  Francis Ford Coppola   57,300,000  \n",
       "4          Sidney Lumet    4,360,000  "
      ]
     },
     "execution_count": 116,
     "metadata": {},
     "output_type": "execute_result"
    }
   ],
   "source": [
    "# Selection of Variables\n",
    "IMDB_df = IMDB_df[[\"Series_Title\", \"Released_Year\", \"Runtime\", \"IMDB_Rating\", \"Meta_score\", \"Gross\"]]\n",
    "pd.DataFrame.head(IMDB_df)"
   ]
  },
  {
   "cell_type": "code",
   "execution_count": 117,
   "id": "5278fca1",
   "metadata": {},
   "outputs": [
    {
     "data": {
      "text/plain": [
       "Series_Title      object\n",
       "Released_Year      int64\n",
       "Runtime           object\n",
       "IMDB_Rating      float64\n",
       "Meta_score       float64\n",
       "Director          object\n",
       "Gross             object\n",
       "dtype: object"
      ]
     },
     "execution_count": 117,
     "metadata": {},
     "output_type": "execute_result"
    }
   ],
   "source": [
    "# View the df Types\n",
    "IMDB_df.dtypes"
   ]
  },
  {
   "cell_type": "markdown",
   "id": "30bfecd4",
   "metadata": {},
   "source": [
    "# Create Histograms"
   ]
  },
  {
   "cell_type": "code",
   "execution_count": 118,
   "id": "4abe0e2a",
   "metadata": {},
   "outputs": [
    {
     "data": {
      "image/png": "[encoded data removed]",
      "text/plain": [
       "<Figure size 432x288 with 1 Axes>"
      ]
     },
     "metadata": {
      "needs_background": "light"
     },
     "output_type": "display_data"
    }
   ],
   "source": [
    "# Histogram of IMDB Ratings\n",
    "plt.hist(IMDB_df.IMDB_Rating, density=False, bins=20)\n",
    "plt.ylabel('Count')\n",
    "plt.xlabel('IMDB Rating');"
   ]
  },
  {
   "cell_type": "code",
   "execution_count": 119,
   "id": "8ad68a24",
   "metadata": {},
   "outputs": [
    {
     "data": {
      "image/png": "[encoded data removed]",
      "text/plain": [
       "<Figure size 432x288 with 1 Axes>"
      ]
     },
     "metadata": {
      "needs_background": "light"
     },
     "output_type": "display_data"
    }
   ],
   "source": [
    "# Histogram of Meta Scores\n",
    "plt.hist(IMDB_df.Meta_score, density=False, bins=20)\n",
    "plt.ylabel('Count')\n",
    "plt.xlabel('Meta Score');"
   ]
  },
  {
   "cell_type": "code",
   "execution_count": 120,
   "id": "797a6999",
   "metadata": {},
   "outputs": [
    {
     "data": {
      "text/html": [
       "<div>\n",
       "<style scoped>\n",
       "    .dataframe tbody tr th:only-of-type {\n",
       "        vertical-align: middle;\n",
       "    }\n",
       "\n",
       "    .dataframe tbody tr th {\n",
       "        vertical-align: top;\n",
       "    }\n",
       "\n",
       "    .dataframe thead th {\n",
       "        text-align: right;\n",
       "    }\n",
       "</style>\n",
       "<table border=\"1\" class=\"dataframe\">\n",
       "  <thead>\n",
       "    <tr style=\"text-align: right;\">\n",
       "      <th></th>\n",
       "      <th>Series_Title</th>\n",
       "      <th>Released_Year</th>\n",
       "      <th>Runtime</th>\n",
       "      <th>IMDB_Rating</th>\n",
       "      <th>Meta_score</th>\n",
       "      <th>Director</th>\n",
       "      <th>Gross</th>\n",
       "    </tr>\n",
       "  </thead>\n",
       "  <tbody>\n",
       "    <tr>\n",
       "      <th>0</th>\n",
       "      <td>The Shawshank Redemption</td>\n",
       "      <td>1994</td>\n",
       "      <td>142</td>\n",
       "      <td>9.3</td>\n",
       "      <td>80.0</td>\n",
       "      <td>Frank Darabont</td>\n",
       "      <td>28,341,469</td>\n",
       "    </tr>\n",
       "    <tr>\n",
       "      <th>1</th>\n",
       "      <td>The Godfather</td>\n",
       "      <td>1972</td>\n",
       "      <td>175</td>\n",
       "      <td>9.2</td>\n",
       "      <td>100.0</td>\n",
       "      <td>Francis Ford Coppola</td>\n",
       "      <td>134,966,411</td>\n",
       "    </tr>\n",
       "    <tr>\n",
       "      <th>2</th>\n",
       "      <td>The Dark Knight</td>\n",
       "      <td>2008</td>\n",
       "      <td>152</td>\n",
       "      <td>9.0</td>\n",
       "      <td>84.0</td>\n",
       "      <td>Christopher Nolan</td>\n",
       "      <td>534,858,444</td>\n",
       "    </tr>\n",
       "    <tr>\n",
       "      <th>3</th>\n",
       "      <td>The Godfather: Part II</td>\n",
       "      <td>1974</td>\n",
       "      <td>202</td>\n",
       "      <td>9.0</td>\n",
       "      <td>90.0</td>\n",
       "      <td>Francis Ford Coppola</td>\n",
       "      <td>57,300,000</td>\n",
       "    </tr>\n",
       "    <tr>\n",
       "      <th>4</th>\n",
       "      <td>12 Angry Men</td>\n",
       "      <td>1957</td>\n",
       "      <td>96</td>\n",
       "      <td>9.0</td>\n",
       "      <td>96.0</td>\n",
       "      <td>Sidney Lumet</td>\n",
       "      <td>4,360,000</td>\n",
       "    </tr>\n",
       "  </tbody>\n",
       "</table>\n",
       "</div>"
      ],
      "text/plain": [
       "               Series_Title  Released_Year Runtime  IMDB_Rating  Meta_score  \\\n",
       "0  The Shawshank Redemption           1994     142          9.3        80.0   \n",
       "1             The Godfather           1972     175          9.2       100.0   \n",
       "2           The Dark Knight           2008     152          9.0        84.0   \n",
       "3    The Godfather: Part II           1974     202          9.0        90.0   \n",
       "4              12 Angry Men           1957      96          9.0        96.0   \n",
       "\n",
       "               Director        Gross  \n",
       "0        Frank Darabont   28,341,469  \n",
       "1  Francis Ford Coppola  134,966,411  \n",
       "2     Christopher Nolan  534,858,444  \n",
       "3  Francis Ford Coppola   57,300,000  \n",
       "4          Sidney Lumet    4,360,000  "
      ]
     },
     "execution_count": 120,
     "metadata": {},
     "output_type": "execute_result"
    }
   ],
   "source": [
    "# Remove \"Min\" from runtime column\n",
    "IMDB_df['Runtime'] = IMDB_df['Runtime'].str.replace(' min', '')\n",
    "\n",
    "# Validate Conversion\n",
    "IMDB_df.head()"
   ]
  },
  {
   "cell_type": "code",
   "execution_count": 121,
   "id": "bccd9671",
   "metadata": {},
   "outputs": [],
   "source": [
    "# Convert Runtime to Integer\n",
    "IMDB_df['Runtime'] = IMDB_df['Runtime'].astype('int32')"
   ]
  },
  {
   "cell_type": "code",
   "execution_count": 122,
   "id": "4165f241",
   "metadata": {},
   "outputs": [
    {
     "data": {
      "image/png": "[encoded data removed]",
      "text/plain": [
       "<Figure size 432x288 with 1 Axes>"
      ]
     },
     "metadata": {
      "needs_background": "light"
     },
     "output_type": "display_data"
    }
   ],
   "source": [
    "# Histogram of Runtime\n",
    "plt.hist(IMDB_df.Runtime, density=False, bins=100)\n",
    "plt.ylabel('Count')\n",
    "plt.xlabel('Runtime (min)');"
   ]
  },
  {
   "cell_type": "code",
   "execution_count": 123,
   "id": "97832797",
   "metadata": {},
   "outputs": [],
   "source": [
    "# Remove Comma from Gross Column\n",
    "IMDB_df['Gross'] = IMDB_df['Gross'].str.replace(',', '')"
   ]
  },
  {
   "cell_type": "code",
   "execution_count": 124,
   "id": "8649ff3b",
   "metadata": {},
   "outputs": [],
   "source": [
    "# Remove Nan Values from Gross\n",
    "Gross_Revenue = IMDB_df['Gross'].dropna()\n",
    "\n",
    "# Change to int\n",
    "Gross_Revenue = Gross_Revenue.astype('int32')"
   ]
  },
  {
   "cell_type": "code",
   "execution_count": 125,
   "id": "59ad3a4d",
   "metadata": {},
   "outputs": [
    {
     "data": {
      "image/png": "[encoded data removed]",
      "text/plain": [
       "<Figure size 432x288 with 1 Axes>"
      ]
     },
     "metadata": {
      "needs_background": "light"
     },
     "output_type": "display_data"
    }
   ],
   "source": [
    "# Histogram of Gross\n",
    "plt.hist(Gross_Revenue, density=False, bins=20)\n",
    "plt.xlim(0, 1000000000)\n",
    "plt.ylabel('Count')\n",
    "plt.xlabel('Gross');"
   ]
  },
  {
   "cell_type": "code",
   "execution_count": 126,
   "id": "7631afda",
   "metadata": {},
   "outputs": [],
   "source": [
    "# Convert Released Year to integer\n",
    "IMDB_df['Released_Year'] = IMDB_df['Released_Year'].astype('int32')"
   ]
  },
  {
   "cell_type": "code",
   "execution_count": 127,
   "id": "2db1e8ac",
   "metadata": {},
   "outputs": [
    {
     "data": {
      "image/png": "[encoded data removed]",
      "text/plain": [
       "<Figure size 432x288 with 1 Axes>"
      ]
     },
     "metadata": {
      "needs_background": "light"
     },
     "output_type": "display_data"
    }
   ],
   "source": [
    "# Histogram of Released Year\n",
    "plt.hist(IMDB_df.Released_Year, density=False, bins=100)\n",
    "plt.ylabel('Count')\n",
    "plt.xlabel('Released Year');"
   ]
  },
  {
   "cell_type": "markdown",
   "id": "fe546168",
   "metadata": {},
   "source": [
    "# Descriptive Statistics"
   ]
  },
  {
   "cell_type": "code",
   "execution_count": 128,
   "id": "09b63faf",
   "metadata": {},
   "outputs": [
    {
     "name": "stderr",
     "output_type": "stream",
     "text": [
      "C:\\Users\\Alexa\\AppData\\Local\\Temp/ipykernel_15140/3733160596.py:2: FutureWarning: Dropping of nuisance columns in DataFrame reductions (with 'numeric_only=None') is deprecated; in a future version this will raise TypeError.  Select only valid columns before calling the reduction.\n",
      "  IMDB_df.mean()\n"
     ]
    },
    {
     "data": {
      "text/plain": [
       "Released_Year    1991.22100\n",
       "Runtime           122.89100\n",
       "IMDB_Rating         7.94930\n",
       "Meta_score         77.97153\n",
       "dtype: float64"
      ]
     },
     "execution_count": 128,
     "metadata": {},
     "output_type": "execute_result"
    }
   ],
   "source": [
    "# Find the mean\n",
    "IMDB_df.mean()"
   ]
  },
  {
   "cell_type": "code",
   "execution_count": 148,
   "id": "aa2928df",
   "metadata": {},
   "outputs": [
    {
     "data": {
      "text/plain": [
       "68034750.87364621"
      ]
     },
     "execution_count": 148,
     "metadata": {},
     "output_type": "execute_result"
    }
   ],
   "source": [
    "Gross_Revenue.mean()"
   ]
  },
  {
   "cell_type": "code",
   "execution_count": 129,
   "id": "5c651823",
   "metadata": {},
   "outputs": [
    {
     "data": {
      "text/html": [
       "<div>\n",
       "<style scoped>\n",
       "    .dataframe tbody tr th:only-of-type {\n",
       "        vertical-align: middle;\n",
       "    }\n",
       "\n",
       "    .dataframe tbody tr th {\n",
       "        vertical-align: top;\n",
       "    }\n",
       "\n",
       "    .dataframe thead th {\n",
       "        text-align: right;\n",
       "    }\n",
       "</style>\n",
       "<table border=\"1\" class=\"dataframe\">\n",
       "  <thead>\n",
       "    <tr style=\"text-align: right;\">\n",
       "      <th></th>\n",
       "      <th>Series_Title</th>\n",
       "      <th>Released_Year</th>\n",
       "      <th>Runtime</th>\n",
       "      <th>IMDB_Rating</th>\n",
       "      <th>Meta_score</th>\n",
       "      <th>Director</th>\n",
       "      <th>Gross</th>\n",
       "    </tr>\n",
       "  </thead>\n",
       "  <tbody>\n",
       "    <tr>\n",
       "      <th>0</th>\n",
       "      <td>Drishyam</td>\n",
       "      <td>2014.0</td>\n",
       "      <td>100</td>\n",
       "      <td>7.7</td>\n",
       "      <td>76.0</td>\n",
       "      <td>Alfred Hitchcock</td>\n",
       "      <td>4360000</td>\n",
       "    </tr>\n",
       "    <tr>\n",
       "      <th>1</th>\n",
       "      <td>NaN</td>\n",
       "      <td>NaN</td>\n",
       "      <td>130</td>\n",
       "      <td>NaN</td>\n",
       "      <td>NaN</td>\n",
       "      <td>NaN</td>\n",
       "      <td>NaN</td>\n",
       "    </tr>\n",
       "  </tbody>\n",
       "</table>\n",
       "</div>"
      ],
      "text/plain": [
       "  Series_Title  Released_Year  Runtime  IMDB_Rating  Meta_score  \\\n",
       "0     Drishyam         2014.0      100          7.7        76.0   \n",
       "1          NaN            NaN      130          NaN         NaN   \n",
       "\n",
       "           Director    Gross  \n",
       "0  Alfred Hitchcock  4360000  \n",
       "1               NaN      NaN  "
      ]
     },
     "execution_count": 129,
     "metadata": {},
     "output_type": "execute_result"
    }
   ],
   "source": [
    "IMDB_df.mode()"
   ]
  },
  {
   "cell_type": "code",
   "execution_count": 149,
   "id": "8b524053",
   "metadata": {},
   "outputs": [
    {
     "data": {
      "text/plain": [
       "0    4360000\n",
       "dtype: int32"
      ]
     },
     "execution_count": 149,
     "metadata": {},
     "output_type": "execute_result"
    }
   ],
   "source": [
    "Gross_Revenue.mode()"
   ]
  },
  {
   "cell_type": "code",
   "execution_count": 130,
   "id": "a52d0607",
   "metadata": {},
   "outputs": [
    {
     "name": "stderr",
     "output_type": "stream",
     "text": [
      "C:\\Users\\Alexa\\AppData\\Local\\Temp/ipykernel_15140/3285583321.py:1: FutureWarning: Dropping of nuisance columns in DataFrame reductions (with 'numeric_only=None') is deprecated; in a future version this will raise TypeError.  Select only valid columns before calling the reduction.\n",
      "  IMDB_df.std()\n"
     ]
    },
    {
     "data": {
      "text/plain": [
       "Released_Year    23.285669\n",
       "Runtime          28.093671\n",
       "IMDB_Rating       0.275491\n",
       "Meta_score       12.376099\n",
       "dtype: float64"
      ]
     },
     "execution_count": 130,
     "metadata": {},
     "output_type": "execute_result"
    }
   ],
   "source": [
    "IMDB_df.std()"
   ]
  },
  {
   "cell_type": "code",
   "execution_count": 150,
   "id": "594fcbfc",
   "metadata": {},
   "outputs": [
    {
     "data": {
      "text/plain": [
       "109750043.19218516"
      ]
     },
     "execution_count": 150,
     "metadata": {},
     "output_type": "execute_result"
    }
   ],
   "source": [
    "Gross_Revenue.std()"
   ]
  },
  {
   "cell_type": "markdown",
   "id": "02b735fc",
   "metadata": {},
   "source": [
    "# Comparing Two Scenarios"
   ]
  },
  {
   "cell_type": "code",
   "execution_count": 131,
   "id": "3ccad3f2",
   "metadata": {},
   "outputs": [],
   "source": [
    "# Create new data frames for above and below two hour runtime\n",
    "IMDB_long_df = IMDB_df[IMDB_df['Runtime']> 120]\n",
    "IMDB_short_df = IMDB_df[IMDB_df['Runtime']< 120]"
   ]
  },
  {
   "cell_type": "code",
   "execution_count": 132,
   "id": "fd084dc2",
   "metadata": {},
   "outputs": [],
   "source": [
    "# Create PMFs\n",
    "long_pmf = thinkstats2.Pmf(IMDB_long_df.IMDB_Rating, label='>120 Mins')\n",
    "short_pmf = thinkstats2.Pmf(IMDB_short_df.IMDB_Rating, label='<120 Mins')"
   ]
  },
  {
   "cell_type": "code",
   "execution_count": 133,
   "id": "37d8411a",
   "metadata": {},
   "outputs": [
    {
     "data": {
      "image/png": "[encoded data removed]",
      "text/plain": [
       "<Figure size 432x288 with 1 Axes>"
      ]
     },
     "metadata": {
      "needs_background": "light"
     },
     "output_type": "display_data"
    },
    {
     "data": {
      "text/plain": [
       "<Figure size 576x432 with 0 Axes>"
      ]
     },
     "metadata": {},
     "output_type": "display_data"
    }
   ],
   "source": [
    "# Plot PMFs\n",
    "thinkplot.Pmfs([long_pmf, short_pmf])\n",
    "thinkplot.Show(xlabel='IMDB Rating')"
   ]
  },
  {
   "cell_type": "markdown",
   "id": "a5e82caa",
   "metadata": {},
   "source": [
    "The probability mass function (PMF) maps the values of IMDB Rating to its probability. I broke apart the data to demonstrate the differences between \"short\" movies with run time lengths less than two hours or one hundred and twenty minutes and \"long\" movies with run time lengths greater than two hours or one hundred and twenty minutes. Based on the above PDF, longer movies tend to score better IMDB scores than shorter movies."
   ]
  },
  {
   "cell_type": "markdown",
   "id": "fcb77c91",
   "metadata": {},
   "source": [
    "# CDF of One Variable"
   ]
  },
  {
   "cell_type": "code",
   "execution_count": 134,
   "id": "1ec896e8",
   "metadata": {},
   "outputs": [
    {
     "data": {
      "image/png": "[encoded data removed]",
      "text/plain": [
       "<Figure size 432x288 with 1 Axes>"
      ]
     },
     "metadata": {
      "needs_background": "light"
     },
     "output_type": "display_data"
    },
    {
     "data": {
      "text/plain": [
       "<Figure size 576x432 with 0 Axes>"
      ]
     },
     "metadata": {},
     "output_type": "display_data"
    }
   ],
   "source": [
    "cdf = thinkstats2.Cdf(IMDB_df.Meta_score, label=\"Meta Score\")\n",
    "thinkplot.Cdf(cdf)\n",
    "thinkplot.Show(xlabel='Meta Score', ylabel='CDF')"
   ]
  },
  {
   "cell_type": "markdown",
   "id": "36338d07",
   "metadata": {},
   "source": [
    "The cumulative distribution function (CDF) maps a value to its percentile rank. The above CDF represents movie Meta Scores. Based on the CDF, approximately 50% of the movies on the IMDB top 1000 list score above an 80 meta score."
   ]
  },
  {
   "cell_type": "markdown",
   "id": "52725e1e",
   "metadata": {},
   "source": [
    "# Analytical Distribution"
   ]
  },
  {
   "cell_type": "code",
   "execution_count": 151,
   "id": "36981514",
   "metadata": {},
   "outputs": [
    {
     "data": {
      "image/png": "[encoded data removed]",
      "text/plain": [
       "<Figure size 432x288 with 1 Axes>"
      ]
     },
     "metadata": {
      "needs_background": "light"
     },
     "output_type": "display_data"
    },
    {
     "data": {
      "text/plain": [
       "<Figure size 576x432 with 0 Axes>"
      ]
     },
     "metadata": {},
     "output_type": "display_data"
    }
   ],
   "source": [
    "def MakeNormalPlot(df):\n",
    "    mean = df.mean()\n",
    "    std = df.std()\n",
    "    xs = [-4,4]\n",
    "    fxs,fyx = thinkstats2.FitLine(xs, inter=mean, slope=std)\n",
    "    thinkplot.Plot(fxs, fyx, color='gray', label='model')\n",
    "    xs, ys = thinkstats2.NormalProbability(df)\n",
    "    thinkplot.Plot(xs, ys, label='IMDB Rating')\n",
    "    thinkplot.Show(ylabel='IMDB Rating', title='Normal Probability Plot')\n",
    "MakeNormalPlot(IMDB_df.IMDB_Rating)"
   ]
  },
  {
   "cell_type": "markdown",
   "id": "2a74d8de",
   "metadata": {},
   "source": [
    "The curve matches the model near the mean and deviates in the tails. "
   ]
  },
  {
   "cell_type": "markdown",
   "id": "86e40640",
   "metadata": {},
   "source": [
    "# Scatter Plots Comparing Two Variables"
   ]
  },
  {
   "cell_type": "code",
   "execution_count": 136,
   "id": "4b3a62b8",
   "metadata": {},
   "outputs": [
    {
     "data": {
      "image/png": "[encoded data removed]",
      "text/plain": [
       "<Figure size 432x288 with 1 Axes>"
      ]
     },
     "metadata": {
      "needs_background": "light"
     },
     "output_type": "display_data"
    }
   ],
   "source": [
    "plt.scatter(IMDB_df.Runtime, IMDB_df.Meta_score)\n",
    "plt.xlabel('Run Time')\n",
    "plt.ylabel('Meta Score')\n",
    "plt.title('Meta Score vs Run Time');"
   ]
  },
  {
   "cell_type": "code",
   "execution_count": 137,
   "id": "66a6c1de",
   "metadata": {},
   "outputs": [
    {
     "data": {
      "text/plain": [
       "-0.031451971885030836"
      ]
     },
     "execution_count": 137,
     "metadata": {},
     "output_type": "execute_result"
    }
   ],
   "source": [
    "IMDB_df['Runtime'].corr(IMDB_df['Meta_score'])"
   ]
  },
  {
   "cell_type": "code",
   "execution_count": 138,
   "id": "eaa41252",
   "metadata": {},
   "outputs": [
    {
     "data": {
      "image/png": "[encoded data removed]",
      "text/plain": [
       "<Figure size 432x288 with 1 Axes>"
      ]
     },
     "metadata": {
      "needs_background": "light"
     },
     "output_type": "display_data"
    }
   ],
   "source": [
    "plt.scatter(IMDB_df.IMDB_Rating, IMDB_df.Meta_score)\n",
    "plt.xlabel('IMDB Rating')\n",
    "plt.ylabel('Meta Score')\n",
    "plt.title('IMDB Rating vs Meta Score');"
   ]
  },
  {
   "cell_type": "code",
   "execution_count": 139,
   "id": "901e4154",
   "metadata": {},
   "outputs": [
    {
     "data": {
      "text/plain": [
       "0.26853084455955556"
      ]
     },
     "execution_count": 139,
     "metadata": {},
     "output_type": "execute_result"
    }
   ],
   "source": [
    "IMDB_df['Meta_score'].corr(IMDB_df['IMDB_Rating'])"
   ]
  },
  {
   "cell_type": "markdown",
   "id": "03c92919",
   "metadata": {},
   "source": [
    "# Test Hypothesis"
   ]
  },
  {
   "cell_type": "code",
   "execution_count": 143,
   "id": "f6889063",
   "metadata": {},
   "outputs": [
    {
     "data": {
      "text/plain": [
       "0.0"
      ]
     },
     "execution_count": 143,
     "metadata": {},
     "output_type": "execute_result"
    }
   ],
   "source": [
    "class DiffMeansPermute(thinkstats2.HypothesisTest):\n",
    "    def TestStatistic(self, data):\n",
    "        group1, group2 = data\n",
    "        test_stat = abs(group1.mean() - group2.mean())\n",
    "        return test_stat\n",
    "    def MakeModel(self):\n",
    "        group1, group2 = self.data\n",
    "        self.n, self.m = len(group1), len(group2)\n",
    "        self.pool = np.hstack((group1, group2))\n",
    "    def RunModel(self):\n",
    "        np.random.shuffle(self.pool)\n",
    "        data = self.pool[:self.n], self.pool[self.n:]\n",
    "        return data\n",
    "\n",
    "# To test the difference in Runtime length\n",
    "data = IMDB_long_df.IMDB_Rating, IMDB_short_df.IMDB_Rating\n",
    "ht = DiffMeansPermute(data)\n",
    "pvalue = ht.PValue()\n",
    "pvalue"
   ]
  },
  {
   "cell_type": "markdown",
   "id": "591d99d0",
   "metadata": {},
   "source": [
    "Testing the difference in means between two groups. This tests to see if the effects of run time and IMDB rating are statistically significant. We take the values for long movies and short movies to shuffle them. By extracting the values as NumPy arrays and passing through DiffMeansPermute, I am able to calculate the p-value. The result is a p-value of 0.0, which is statistically significant."
   ]
  },
  {
   "cell_type": "markdown",
   "id": "edb18bc1",
   "metadata": {},
   "source": [
    "# Regression Analysis"
   ]
  },
  {
   "cell_type": "code",
   "execution_count": 146,
   "id": "24151dd9",
   "metadata": {},
   "outputs": [
    {
     "data": {
      "text/html": [
       "<table class=\"simpletable\">\n",
       "<caption>OLS Regression Results</caption>\n",
       "<tr>\n",
       "  <th>Dep. Variable:</th>       <td>Meta_score</td>    <th>  R-squared:         </th> <td>   0.082</td>\n",
       "</tr>\n",
       "<tr>\n",
       "  <th>Model:</th>                   <td>OLS</td>       <th>  Adj. R-squared:    </th> <td>   0.080</td>\n",
       "</tr>\n",
       "<tr>\n",
       "  <th>Method:</th>             <td>Least Squares</td>  <th>  F-statistic:       </th> <td>   37.66</td>\n",
       "</tr>\n",
       "<tr>\n",
       "  <th>Date:</th>             <td>Fri, 04 Mar 2022</td> <th>  Prob (F-statistic):</th> <td>2.16e-16</td>\n",
       "</tr>\n",
       "<tr>\n",
       "  <th>Time:</th>                 <td>15:03:19</td>     <th>  Log-Likelihood:    </th> <td> -3280.3</td>\n",
       "</tr>\n",
       "<tr>\n",
       "  <th>No. Observations:</th>      <td>   843</td>      <th>  AIC:               </th> <td>   6567.</td>\n",
       "</tr>\n",
       "<tr>\n",
       "  <th>Df Residuals:</th>          <td>   840</td>      <th>  BIC:               </th> <td>   6581.</td>\n",
       "</tr>\n",
       "<tr>\n",
       "  <th>Df Model:</th>              <td>     2</td>      <th>                     </th>     <td> </td>   \n",
       "</tr>\n",
       "<tr>\n",
       "  <th>Covariance Type:</th>      <td>nonrobust</td>    <th>                     </th>     <td> </td>   \n",
       "</tr>\n",
       "</table>\n",
       "<table class=\"simpletable\">\n",
       "<tr>\n",
       "       <td></td>          <th>coef</th>     <th>std err</th>      <th>t</th>      <th>P>|t|</th>  <th>[0.025</th>    <th>0.975]</th>  \n",
       "</tr>\n",
       "<tr>\n",
       "  <th>Intercept</th>   <td>  -18.0037</td> <td>   11.487</td> <td>   -1.567</td> <td> 0.117</td> <td>  -40.550</td> <td>    4.543</td>\n",
       "</tr>\n",
       "<tr>\n",
       "  <th>Runtime</th>     <td>   -0.0477</td> <td>    0.016</td> <td>   -3.054</td> <td> 0.002</td> <td>   -0.078</td> <td>   -0.017</td>\n",
       "</tr>\n",
       "<tr>\n",
       "  <th>IMDB_Rating</th> <td>   12.8357</td> <td>    1.488</td> <td>    8.627</td> <td> 0.000</td> <td>    9.915</td> <td>   15.756</td>\n",
       "</tr>\n",
       "</table>\n",
       "<table class=\"simpletable\">\n",
       "<tr>\n",
       "  <th>Omnibus:</th>       <td>51.857</td> <th>  Durbin-Watson:     </th> <td>   1.699</td>\n",
       "</tr>\n",
       "<tr>\n",
       "  <th>Prob(Omnibus):</th> <td> 0.000</td> <th>  Jarque-Bera (JB):  </th> <td>  60.013</td>\n",
       "</tr>\n",
       "<tr>\n",
       "  <th>Skew:</th>          <td>-0.624</td> <th>  Prob(JB):          </th> <td>9.29e-14</td>\n",
       "</tr>\n",
       "<tr>\n",
       "  <th>Kurtosis:</th>      <td> 3.388</td> <th>  Cond. No.          </th> <td>3.56e+03</td>\n",
       "</tr>\n",
       "</table><br/><br/>Notes:<br/>[1] Standard Errors assume that the covariance matrix of the errors is correctly specified.<br/>[2] The condition number is large, 3.56e+03. This might indicate that there are<br/>strong multicollinearity or other numerical problems."
      ],
      "text/plain": [
       "<class 'statsmodels.iolib.summary.Summary'>\n",
       "\"\"\"\n",
       "                            OLS Regression Results                            \n",
       "==============================================================================\n",
       "Dep. Variable:             Meta_score   R-squared:                       0.082\n",
       "Model:                            OLS   Adj. R-squared:                  0.080\n",
       "Method:                 Least Squares   F-statistic:                     37.66\n",
       "Date:                Fri, 04 Mar 2022   Prob (F-statistic):           2.16e-16\n",
       "Time:                        15:03:19   Log-Likelihood:                -3280.3\n",
       "No. Observations:                 843   AIC:                             6567.\n",
       "Df Residuals:                     840   BIC:                             6581.\n",
       "Df Model:                           2                                         \n",
       "Covariance Type:            nonrobust                                         \n",
       "===============================================================================\n",
       "                  coef    std err          t      P>|t|      [0.025      0.975]\n",
       "-------------------------------------------------------------------------------\n",
       "Intercept     -18.0037     11.487     -1.567      0.117     -40.550       4.543\n",
       "Runtime        -0.0477      0.016     -3.054      0.002      -0.078      -0.017\n",
       "IMDB_Rating    12.8357      1.488      8.627      0.000       9.915      15.756\n",
       "==============================================================================\n",
       "Omnibus:                       51.857   Durbin-Watson:                   1.699\n",
       "Prob(Omnibus):                  0.000   Jarque-Bera (JB):               60.013\n",
       "Skew:                          -0.624   Prob(JB):                     9.29e-14\n",
       "Kurtosis:                       3.388   Cond. No.                     3.56e+03\n",
       "==============================================================================\n",
       "\n",
       "Notes:\n",
       "[1] Standard Errors assume that the covariance matrix of the errors is correctly specified.\n",
       "[2] The condition number is large, 3.56e+03. This might indicate that there are\n",
       "strong multicollinearity or other numerical problems.\n",
       "\"\"\""
      ]
     },
     "execution_count": 146,
     "metadata": {},
     "output_type": "execute_result"
    }
   ],
   "source": [
    "model = smf.ols('Meta_score ~ Runtime + IMDB_Rating', data=IMDB_df)\n",
    "results = model.fit()\n",
    "results.summary()"
   ]
  },
  {
   "cell_type": "markdown",
   "id": "94703d75",
   "metadata": {},
   "source": [
    "The R squared value of 0.082 indicates that approximately eight percent of my variability can be explained by the model."
   ]
  }
 ],
 "metadata": {
  "kernelspec": {
   "display_name": "Python 3 (ipykernel)",
   "language": "python",
   "name": "python3"
  },
  "language_info": {
   "codemirror_mode": {
    "name": "ipython",
    "version": 3
   },
   "file_extension": ".py",
   "mimetype": "text/x-python",
   "name": "python",
   "nbconvert_exporter": "python",
   "pygments_lexer": "ipython3",
   "version": "3.9.7"
  }
 },
 "nbformat": 4,
 "nbformat_minor": 5
}
